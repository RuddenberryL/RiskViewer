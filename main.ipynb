{
 "cells": [
  {
   "attachments": {},
   "cell_type": "markdown",
   "metadata": {},
   "source": [
    "# Risk Simulation for SC,AU,CF,SR and OI 2018-2023"
   ]
  },
  {
   "attachments": {},
   "cell_type": "markdown",
   "metadata": {},
   "source": [
    "Simulation method: \n",
    "- Calc weighted close price for all futures\n",
    "- Find top 1%, 5%, 10% d2d diff and corresponding dates\n",
    "\n"
   ]
  },
  {
   "cell_type": "code",
   "execution_count": 16,
   "metadata": {},
   "outputs": [],
   "source": [
    "import os\n",
    "from process_data import run\n",
    "\n",
    "# run()\n",
    "\n",
    "def get_xls_files():\n",
    "    xchanges = ['ine', 'shfe']\n",
    "    file_paths = []\n",
    "    for xchange in xchanges:\n",
    "        for root, directories, files in os.walk(f'./csv/{xchange}'):\n",
    "            for filename in files:\n",
    "                filepath = os.path.join(root, filename)\n",
    "                file_paths.append(filepath)\n",
    "    return file_paths\n",
    "\n",
    "def get_txt_files():\n",
    "    xchanges = ['czce']\n",
    "    file_paths = []\n",
    "    for xchange in xchanges:\n",
    "        for root, directories, files  in os.walk(f'./csv/{xchange}'):\n",
    "            for filename in files:\n",
    "                filepath = os.path.join(root, filename)\n",
    "                file_paths.append(filepath)\n",
    "    return file_paths\n",
    "\n",
    "shfe = get_xls_files()\n",
    "czce = get_txt_files()"
   ]
  },
  {
   "cell_type": "code",
   "execution_count": 20,
   "metadata": {},
   "outputs": [],
   "source": [
    "import pandas as pd\n",
    "import numpy as np\n",
    "\n",
    "und_shfe = ['sc', 'au']\n",
    "und_czce = ['SR', 'CF', 'OI']\n",
    "\n",
    "def get_shfe(filePath):\n",
    "    df = pd.read_csv(filePath)\n",
    "    d = df[df['Contract'].str.len() == 6]\n",
    "    d['Und'] = df.Contract.str[:2]\n",
    "    dd = d.groupby(['Date', 'Und']).apply(\n",
    "        lambda x: pd.Series([\n",
    "            np.ma.average(x['Close'], weights=x['OI'])\n",
    "        ],index=['WeightedAvgClose'])\n",
    "    ).reset_index()\n",
    "    dd['Date'] = pd.to_datetime(dd['Date'], format='%Y%m%d')\n",
    "    return dd\n",
    "\n",
    "def get_czce(filePath):\n",
    "    df = pd.read_csv(filePath, encoding='gb2312')\n",
    "    df.rename(columns={'交易日期':'Date', '品种代码': 'Contract', '今收盘': 'Close', '成交量(手)': 'OI'}, inplace=True)\n",
    "    df['Und'] = df.Contract.str[:2]\n",
    "    dd = df.groupby(['Date', 'Und']).apply(\n",
    "        lambda x: pd.Series([\n",
    "            np.ma.average(x['Close'], weights=x['OI'])\n",
    "        ],index=['WeightedAvgClose'])\n",
    "    ).reset_index()\n",
    "    dd['Date'] = pd.to_datetime(dd['Date'], format='%Y-%m-%d')\n",
    "    return dd\n",
    "\n",
    "def convert_to_lod(df, unds):\n",
    "    lod = []\n",
    "    for und in unds:\n",
    "        d = df[df['Und'] == und]\n",
    "        if d.__len__() != 0:\n",
    "            lod.extend(d.to_dict('records'))\n",
    "    return lod\n",
    "\n"
   ]
  },
  {
   "cell_type": "code",
   "execution_count": 21,
   "metadata": {},
   "outputs": [
    {
     "ename": "ZeroDivisionError",
     "evalue": "Weights sum to zero, can't be normalized",
     "output_type": "error",
     "traceback": [
      "\u001b[1;31m---------------------------------------------------------------------------\u001b[0m",
      "\u001b[1;31mZeroDivisionError\u001b[0m                         Traceback (most recent call last)",
      "\u001b[1;32me:\\dev\\RiskViewer\\main.ipynb Cell 5\u001b[0m in \u001b[0;36m<cell line: 1>\u001b[1;34m()\u001b[0m\n\u001b[1;32m----> <a href='vscode-notebook-cell:/e%3A/dev/RiskViewer/main.ipynb#W4sZmlsZQ%3D%3D?line=0'>1</a>\u001b[0m df \u001b[39m=\u001b[39m get_czce(czce[\u001b[39m0\u001b[39;49m])\n",
      "\u001b[1;32me:\\dev\\RiskViewer\\main.ipynb Cell 5\u001b[0m in \u001b[0;36mget_czce\u001b[1;34m(filePath)\u001b[0m\n\u001b[0;32m     <a href='vscode-notebook-cell:/e%3A/dev/RiskViewer/main.ipynb#W4sZmlsZQ%3D%3D?line=20'>21</a>\u001b[0m df\u001b[39m.\u001b[39mrename(columns\u001b[39m=\u001b[39m{\u001b[39m'\u001b[39m\u001b[39m交易日期\u001b[39m\u001b[39m'\u001b[39m:\u001b[39m'\u001b[39m\u001b[39mDate\u001b[39m\u001b[39m'\u001b[39m, \u001b[39m'\u001b[39m\u001b[39m品种代码\u001b[39m\u001b[39m'\u001b[39m: \u001b[39m'\u001b[39m\u001b[39mContract\u001b[39m\u001b[39m'\u001b[39m, \u001b[39m'\u001b[39m\u001b[39m今收盘\u001b[39m\u001b[39m'\u001b[39m: \u001b[39m'\u001b[39m\u001b[39mClose\u001b[39m\u001b[39m'\u001b[39m, \u001b[39m'\u001b[39m\u001b[39m成交量(手)\u001b[39m\u001b[39m'\u001b[39m: \u001b[39m'\u001b[39m\u001b[39mOI\u001b[39m\u001b[39m'\u001b[39m}, inplace\u001b[39m=\u001b[39m\u001b[39mTrue\u001b[39;00m)\n\u001b[0;32m     <a href='vscode-notebook-cell:/e%3A/dev/RiskViewer/main.ipynb#W4sZmlsZQ%3D%3D?line=21'>22</a>\u001b[0m df[\u001b[39m'\u001b[39m\u001b[39mUnd\u001b[39m\u001b[39m'\u001b[39m] \u001b[39m=\u001b[39m df\u001b[39m.\u001b[39mContract\u001b[39m.\u001b[39mstr[:\u001b[39m2\u001b[39m]\n\u001b[1;32m---> <a href='vscode-notebook-cell:/e%3A/dev/RiskViewer/main.ipynb#W4sZmlsZQ%3D%3D?line=22'>23</a>\u001b[0m dd \u001b[39m=\u001b[39m df\u001b[39m.\u001b[39;49mgroupby([\u001b[39m'\u001b[39;49m\u001b[39mDate\u001b[39;49m\u001b[39m'\u001b[39;49m, \u001b[39m'\u001b[39;49m\u001b[39mUnd\u001b[39;49m\u001b[39m'\u001b[39;49m])\u001b[39m.\u001b[39;49mapply(\n\u001b[0;32m     <a href='vscode-notebook-cell:/e%3A/dev/RiskViewer/main.ipynb#W4sZmlsZQ%3D%3D?line=23'>24</a>\u001b[0m     \u001b[39mlambda\u001b[39;49;00m x: pd\u001b[39m.\u001b[39;49mSeries([\n\u001b[0;32m     <a href='vscode-notebook-cell:/e%3A/dev/RiskViewer/main.ipynb#W4sZmlsZQ%3D%3D?line=24'>25</a>\u001b[0m         np\u001b[39m.\u001b[39;49maverage(x[\u001b[39m'\u001b[39;49m\u001b[39mClose\u001b[39;49m\u001b[39m'\u001b[39;49m], weights\u001b[39m=\u001b[39;49mx[\u001b[39m'\u001b[39;49m\u001b[39mOI\u001b[39;49m\u001b[39m'\u001b[39;49m])\n\u001b[0;32m     <a href='vscode-notebook-cell:/e%3A/dev/RiskViewer/main.ipynb#W4sZmlsZQ%3D%3D?line=25'>26</a>\u001b[0m     ],index\u001b[39m=\u001b[39;49m[\u001b[39m'\u001b[39;49m\u001b[39mWeightedAvgClose\u001b[39;49m\u001b[39m'\u001b[39;49m])\n\u001b[0;32m     <a href='vscode-notebook-cell:/e%3A/dev/RiskViewer/main.ipynb#W4sZmlsZQ%3D%3D?line=26'>27</a>\u001b[0m )\u001b[39m.\u001b[39mreset_index()\n\u001b[0;32m     <a href='vscode-notebook-cell:/e%3A/dev/RiskViewer/main.ipynb#W4sZmlsZQ%3D%3D?line=27'>28</a>\u001b[0m dd[\u001b[39m'\u001b[39m\u001b[39mDate\u001b[39m\u001b[39m'\u001b[39m] \u001b[39m=\u001b[39m pd\u001b[39m.\u001b[39mto_datetime(dd[\u001b[39m'\u001b[39m\u001b[39mDate\u001b[39m\u001b[39m'\u001b[39m], \u001b[39mformat\u001b[39m\u001b[39m=\u001b[39m\u001b[39m'\u001b[39m\u001b[39m%\u001b[39m\u001b[39mY-\u001b[39m\u001b[39m%\u001b[39m\u001b[39mm-\u001b[39m\u001b[39m%d\u001b[39;00m\u001b[39m'\u001b[39m)\n\u001b[0;32m     <a href='vscode-notebook-cell:/e%3A/dev/RiskViewer/main.ipynb#W4sZmlsZQ%3D%3D?line=28'>29</a>\u001b[0m \u001b[39mreturn\u001b[39;00m dd\n",
      "File \u001b[1;32me:\\anaconda\\lib\\site-packages\\pandas\\core\\groupby\\groupby.py:1414\u001b[0m, in \u001b[0;36mGroupBy.apply\u001b[1;34m(self, func, *args, **kwargs)\u001b[0m\n\u001b[0;32m   1412\u001b[0m \u001b[39mwith\u001b[39;00m option_context(\u001b[39m\"\u001b[39m\u001b[39mmode.chained_assignment\u001b[39m\u001b[39m\"\u001b[39m, \u001b[39mNone\u001b[39;00m):\n\u001b[0;32m   1413\u001b[0m     \u001b[39mtry\u001b[39;00m:\n\u001b[1;32m-> 1414\u001b[0m         result \u001b[39m=\u001b[39m \u001b[39mself\u001b[39;49m\u001b[39m.\u001b[39;49m_python_apply_general(f, \u001b[39mself\u001b[39;49m\u001b[39m.\u001b[39;49m_selected_obj)\n\u001b[0;32m   1415\u001b[0m     \u001b[39mexcept\u001b[39;00m \u001b[39mTypeError\u001b[39;00m:\n\u001b[0;32m   1416\u001b[0m         \u001b[39m# gh-20949\u001b[39;00m\n\u001b[0;32m   1417\u001b[0m         \u001b[39m# try again, with .apply acting as a filtering\u001b[39;00m\n\u001b[1;32m   (...)\u001b[0m\n\u001b[0;32m   1421\u001b[0m         \u001b[39m# fails on *some* columns, e.g. a numeric operation\u001b[39;00m\n\u001b[0;32m   1422\u001b[0m         \u001b[39m# on a string grouper column\u001b[39;00m\n\u001b[0;32m   1424\u001b[0m         \u001b[39mwith\u001b[39;00m \u001b[39mself\u001b[39m\u001b[39m.\u001b[39m_group_selection_context():\n",
      "File \u001b[1;32me:\\anaconda\\lib\\site-packages\\pandas\\core\\groupby\\groupby.py:1455\u001b[0m, in \u001b[0;36mGroupBy._python_apply_general\u001b[1;34m(self, f, data, not_indexed_same)\u001b[0m\n\u001b[0;32m   1429\u001b[0m \u001b[39m@final\u001b[39m\n\u001b[0;32m   1430\u001b[0m \u001b[39mdef\u001b[39;00m \u001b[39m_python_apply_general\u001b[39m(\n\u001b[0;32m   1431\u001b[0m     \u001b[39mself\u001b[39m,\n\u001b[1;32m   (...)\u001b[0m\n\u001b[0;32m   1434\u001b[0m     not_indexed_same: \u001b[39mbool\u001b[39m \u001b[39m|\u001b[39m \u001b[39mNone\u001b[39;00m \u001b[39m=\u001b[39m \u001b[39mNone\u001b[39;00m,\n\u001b[0;32m   1435\u001b[0m ) \u001b[39m-\u001b[39m\u001b[39m>\u001b[39m DataFrame \u001b[39m|\u001b[39m Series:\n\u001b[0;32m   1436\u001b[0m     \u001b[39m\"\"\"\u001b[39;00m\n\u001b[0;32m   1437\u001b[0m \u001b[39m    Apply function f in python space\u001b[39;00m\n\u001b[0;32m   1438\u001b[0m \n\u001b[1;32m   (...)\u001b[0m\n\u001b[0;32m   1453\u001b[0m \u001b[39m        data after applying f\u001b[39;00m\n\u001b[0;32m   1454\u001b[0m \u001b[39m    \"\"\"\u001b[39;00m\n\u001b[1;32m-> 1455\u001b[0m     values, mutated \u001b[39m=\u001b[39m \u001b[39mself\u001b[39;49m\u001b[39m.\u001b[39;49mgrouper\u001b[39m.\u001b[39;49mapply(f, data, \u001b[39mself\u001b[39;49m\u001b[39m.\u001b[39;49maxis)\n\u001b[0;32m   1457\u001b[0m     \u001b[39mif\u001b[39;00m not_indexed_same \u001b[39mis\u001b[39;00m \u001b[39mNone\u001b[39;00m:\n\u001b[0;32m   1458\u001b[0m         not_indexed_same \u001b[39m=\u001b[39m mutated \u001b[39mor\u001b[39;00m \u001b[39mself\u001b[39m\u001b[39m.\u001b[39mmutated\n",
      "File \u001b[1;32me:\\anaconda\\lib\\site-packages\\pandas\\core\\groupby\\ops.py:761\u001b[0m, in \u001b[0;36mBaseGrouper.apply\u001b[1;34m(self, f, data, axis)\u001b[0m\n\u001b[0;32m    759\u001b[0m \u001b[39m# group might be modified\u001b[39;00m\n\u001b[0;32m    760\u001b[0m group_axes \u001b[39m=\u001b[39m group\u001b[39m.\u001b[39maxes\n\u001b[1;32m--> 761\u001b[0m res \u001b[39m=\u001b[39m f(group)\n\u001b[0;32m    762\u001b[0m \u001b[39mif\u001b[39;00m \u001b[39mnot\u001b[39;00m mutated \u001b[39mand\u001b[39;00m \u001b[39mnot\u001b[39;00m _is_indexed_like(res, group_axes, axis):\n\u001b[0;32m    763\u001b[0m     mutated \u001b[39m=\u001b[39m \u001b[39mTrue\u001b[39;00m\n",
      "\u001b[1;32me:\\dev\\RiskViewer\\main.ipynb Cell 5\u001b[0m in \u001b[0;36mget_czce.<locals>.<lambda>\u001b[1;34m(x)\u001b[0m\n\u001b[0;32m     <a href='vscode-notebook-cell:/e%3A/dev/RiskViewer/main.ipynb#W4sZmlsZQ%3D%3D?line=20'>21</a>\u001b[0m df\u001b[39m.\u001b[39mrename(columns\u001b[39m=\u001b[39m{\u001b[39m'\u001b[39m\u001b[39m交易日期\u001b[39m\u001b[39m'\u001b[39m:\u001b[39m'\u001b[39m\u001b[39mDate\u001b[39m\u001b[39m'\u001b[39m, \u001b[39m'\u001b[39m\u001b[39m品种代码\u001b[39m\u001b[39m'\u001b[39m: \u001b[39m'\u001b[39m\u001b[39mContract\u001b[39m\u001b[39m'\u001b[39m, \u001b[39m'\u001b[39m\u001b[39m今收盘\u001b[39m\u001b[39m'\u001b[39m: \u001b[39m'\u001b[39m\u001b[39mClose\u001b[39m\u001b[39m'\u001b[39m, \u001b[39m'\u001b[39m\u001b[39m成交量(手)\u001b[39m\u001b[39m'\u001b[39m: \u001b[39m'\u001b[39m\u001b[39mOI\u001b[39m\u001b[39m'\u001b[39m}, inplace\u001b[39m=\u001b[39m\u001b[39mTrue\u001b[39;00m)\n\u001b[0;32m     <a href='vscode-notebook-cell:/e%3A/dev/RiskViewer/main.ipynb#W4sZmlsZQ%3D%3D?line=21'>22</a>\u001b[0m df[\u001b[39m'\u001b[39m\u001b[39mUnd\u001b[39m\u001b[39m'\u001b[39m] \u001b[39m=\u001b[39m df\u001b[39m.\u001b[39mContract\u001b[39m.\u001b[39mstr[:\u001b[39m2\u001b[39m]\n\u001b[0;32m     <a href='vscode-notebook-cell:/e%3A/dev/RiskViewer/main.ipynb#W4sZmlsZQ%3D%3D?line=22'>23</a>\u001b[0m dd \u001b[39m=\u001b[39m df\u001b[39m.\u001b[39mgroupby([\u001b[39m'\u001b[39m\u001b[39mDate\u001b[39m\u001b[39m'\u001b[39m, \u001b[39m'\u001b[39m\u001b[39mUnd\u001b[39m\u001b[39m'\u001b[39m])\u001b[39m.\u001b[39mapply(\n\u001b[0;32m     <a href='vscode-notebook-cell:/e%3A/dev/RiskViewer/main.ipynb#W4sZmlsZQ%3D%3D?line=23'>24</a>\u001b[0m     \u001b[39mlambda\u001b[39;00m x: pd\u001b[39m.\u001b[39mSeries([\n\u001b[1;32m---> <a href='vscode-notebook-cell:/e%3A/dev/RiskViewer/main.ipynb#W4sZmlsZQ%3D%3D?line=24'>25</a>\u001b[0m         np\u001b[39m.\u001b[39;49maverage(x[\u001b[39m'\u001b[39;49m\u001b[39mClose\u001b[39;49m\u001b[39m'\u001b[39;49m], weights\u001b[39m=\u001b[39;49mx[\u001b[39m'\u001b[39;49m\u001b[39mOI\u001b[39;49m\u001b[39m'\u001b[39;49m])\n\u001b[0;32m     <a href='vscode-notebook-cell:/e%3A/dev/RiskViewer/main.ipynb#W4sZmlsZQ%3D%3D?line=25'>26</a>\u001b[0m     ],index\u001b[39m=\u001b[39m[\u001b[39m'\u001b[39m\u001b[39mWeightedAvgClose\u001b[39m\u001b[39m'\u001b[39m])\n\u001b[0;32m     <a href='vscode-notebook-cell:/e%3A/dev/RiskViewer/main.ipynb#W4sZmlsZQ%3D%3D?line=26'>27</a>\u001b[0m )\u001b[39m.\u001b[39mreset_index()\n\u001b[0;32m     <a href='vscode-notebook-cell:/e%3A/dev/RiskViewer/main.ipynb#W4sZmlsZQ%3D%3D?line=27'>28</a>\u001b[0m dd[\u001b[39m'\u001b[39m\u001b[39mDate\u001b[39m\u001b[39m'\u001b[39m] \u001b[39m=\u001b[39m pd\u001b[39m.\u001b[39mto_datetime(dd[\u001b[39m'\u001b[39m\u001b[39mDate\u001b[39m\u001b[39m'\u001b[39m], \u001b[39mformat\u001b[39m\u001b[39m=\u001b[39m\u001b[39m'\u001b[39m\u001b[39m%\u001b[39m\u001b[39mY-\u001b[39m\u001b[39m%\u001b[39m\u001b[39mm-\u001b[39m\u001b[39m%d\u001b[39;00m\u001b[39m'\u001b[39m)\n\u001b[0;32m     <a href='vscode-notebook-cell:/e%3A/dev/RiskViewer/main.ipynb#W4sZmlsZQ%3D%3D?line=28'>29</a>\u001b[0m \u001b[39mreturn\u001b[39;00m dd\n",
      "File \u001b[1;32m<__array_function__ internals>:5\u001b[0m, in \u001b[0;36maverage\u001b[1;34m(*args, **kwargs)\u001b[0m\n",
      "File \u001b[1;32me:\\anaconda\\lib\\site-packages\\numpy\\lib\\function_base.py:409\u001b[0m, in \u001b[0;36maverage\u001b[1;34m(a, axis, weights, returned)\u001b[0m\n\u001b[0;32m    407\u001b[0m     scl \u001b[39m=\u001b[39m wgt\u001b[39m.\u001b[39msum(axis\u001b[39m=\u001b[39maxis, dtype\u001b[39m=\u001b[39mresult_dtype)\n\u001b[0;32m    408\u001b[0m     \u001b[39mif\u001b[39;00m np\u001b[39m.\u001b[39many(scl \u001b[39m==\u001b[39m \u001b[39m0.0\u001b[39m):\n\u001b[1;32m--> 409\u001b[0m         \u001b[39mraise\u001b[39;00m \u001b[39mZeroDivisionError\u001b[39;00m(\n\u001b[0;32m    410\u001b[0m             \u001b[39m\"\u001b[39m\u001b[39mWeights sum to zero, can\u001b[39m\u001b[39m'\u001b[39m\u001b[39mt be normalized\u001b[39m\u001b[39m\"\u001b[39m)\n\u001b[0;32m    412\u001b[0m     avg \u001b[39m=\u001b[39m np\u001b[39m.\u001b[39mmultiply(a, wgt, dtype\u001b[39m=\u001b[39mresult_dtype)\u001b[39m.\u001b[39msum(axis)\u001b[39m/\u001b[39mscl\n\u001b[0;32m    414\u001b[0m \u001b[39mif\u001b[39;00m returned:\n",
      "\u001b[1;31mZeroDivisionError\u001b[0m: Weights sum to zero, can't be normalized"
     ]
    }
   ],
   "source": [
    "df = get_czce(czce[0])"
   ]
  },
  {
   "cell_type": "code",
   "execution_count": 9,
   "metadata": {},
   "outputs": [
    {
     "name": "stderr",
     "output_type": "stream",
     "text": [
      "C:\\Users\\alan\\AppData\\Local\\Temp\\ipykernel_15108\\1477275319.py:2: SettingWithCopyWarning: \n",
      "A value is trying to be set on a copy of a slice from a DataFrame.\n",
      "Try using .loc[row_indexer,col_indexer] = value instead\n",
      "\n",
      "See the caveats in the documentation: https://pandas.pydata.org/pandas-docs/stable/user_guide/indexing.html#returning-a-view-versus-a-copy\n",
      "  d['Und'] = df.Contract.str[:2]\n"
     ]
    }
   ],
   "source": [
    "d = df[df['Contract'].str.len() == 6]\n",
    "d['Und'] = df.Contract.str[:2]\n",
    "dd = d.groupby(['Date', 'Und']).apply(\n",
    "    lambda x: pd.Series([\n",
    "        np.average(x['Close'], weights=x['OI'])\n",
    "    ],index=['WeightedAvgClose'])\n",
    ").reset_index()\n",
    "dd = dd[dd['Und'] == 'au']"
   ]
  },
  {
   "cell_type": "code",
   "execution_count": 12,
   "metadata": {},
   "outputs": [
    {
     "data": {
      "text/plain": [
       "0"
      ]
     },
     "execution_count": 12,
     "metadata": {},
     "output_type": "execute_result"
    }
   ],
   "source": []
  }
 ],
 "metadata": {
  "kernelspec": {
   "display_name": "base",
   "language": "python",
   "name": "python3"
  },
  "language_info": {
   "codemirror_mode": {
    "name": "ipython",
    "version": 3
   },
   "file_extension": ".py",
   "mimetype": "text/x-python",
   "name": "python",
   "nbconvert_exporter": "python",
   "pygments_lexer": "ipython3",
   "version": "3.9.12"
  },
  "orig_nbformat": 4
 },
 "nbformat": 4,
 "nbformat_minor": 2
}
